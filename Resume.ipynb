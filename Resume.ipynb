{
  "nbformat": 4,
  "nbformat_minor": 0,
  "metadata": {
    "colab": {
      "provenance": [],
      "authorship_tag": "ABX9TyOAmIXA/UqUEQtvNokmWhCD"
    },
    "kernelspec": {
      "name": "python3",
      "display_name": "Python 3"
    },
    "language_info": {
      "name": "python"
    }
  },
  "cells": [
    {
      "cell_type": "markdown",
      "source": [
        "**Arminder Kaur Chahal**  \n",
        "Senior Software Engineer  \n",
        "16 Irving Crescent, Red Deer, Alberta  \n",
        "+1 (825) 706 1860  \n",
        "arudhatt@gmail.com  \n",
        "LinkedIn: www.linkedin.com/in/arminder-chahal  \n",
        "GitHub: https://github.com/arudhatt  \n",
        "Portfolio: https://arudhatt.github.io/portfolio/\n",
        "\n",
        "---\n",
        "\n",
        "### Professional Summary\n",
        "\n",
        "Experienced Senior Software Engineer with over 10 years of professional experience in developing and implementing complex software solutions. Skilled in backend development, software architecture, and leading cross-functional teams to deliver high-quality products. Proven track record of successful project delivery, strong problem-solving abilities, and a passion for staying updated on the latest technologies and industry trends. Looking to leverage my expertise and leadership skills to drive innovation and contribute to the success of a dynamic tech company.\n",
        "\n",
        "---\n",
        "\n",
        "### Professional Experience\n",
        "\n",
        "**Store Manager**  \n",
        "Circle K, Red Deer, Alberta  \n",
        "June 2022 - October 2023\n",
        "\n",
        "- Managed daily store operations, including inventory management, staff scheduling, and customer service, ensuring efficient and effective store performance.\n",
        "\n",
        "**Senior Java Software Developer**  \n",
        "Digitech Software Solutions, Panchkula, Haryana, India  \n",
        "March 2012 - January 2021\n",
        "\n",
        "- Directed a team of 5 junior developers to improve code quality, implement new features, and meet project deadlines, resulting in a 20% reduction in bug reports and a 15% improvement in project completion time.\n",
        "- Implemented microservices architecture using Spring Boot and Docker, achieving a 30% reduction in application response time.\n",
        "- Rectified critical issues within the Java codebase, enhancing software robustness and reducing user-reported bugs by 25%, improving overall customer satisfaction.\n",
        "\n",
        "**Applications Engineer**  \n",
        "Oracle India, Hyderabad, Andhra Pradesh, India  \n",
        "July 2010 - March 2012\n",
        "\n",
        "- Took ownership of the seed data installation module for Oracle Fusion Applications, increasing testing speed for new features by about 40%.\n",
        "- Developed and maintained complex SQL queries and scripts for data extraction and manipulation for reporting purposes.\n",
        "- Collaborated with cross-functional teams to provide efficient customer support and promptly resolve production bugs, reducing downtime by 10%.\n",
        "\n",
        "**Associate Programmer/Analyst**  \n",
        "Convergys IMG, Hyderabad, Andhra Pradesh, India  \n",
        "September 2008 - July 2010\n",
        "\n",
        "- Developed and tested software applications as part of a collaborative team, contributing to successful project deliveries and enhancing software functionality.\n",
        "\n",
        "---\n",
        "\n",
        "### Education\n",
        "\n",
        "**Master of Engineering (MEng) in Electrical and Computer Engineering**  \n",
        "University of Waterloo  \n",
        "January 2021 - December 2022\n",
        "\n",
        "**Bachelor of Technology (B.Tech) in Computer Science and Engineering**  \n",
        "Punjab Technical University  \n",
        "January 2004 - December 2008\n",
        "\n",
        "---\n",
        "\n",
        "### Key Skills\n",
        "\n",
        "- **Languages and Frameworks:** Java, Spring, Spring Boot, Hibernate, Python, Django, Flask, Tornado, TensorFlow, scikit-learn\n",
        "- **Software Development:** Backend development, software architecture, microservices, SQL, Docker\n",
        "- **Leadership:** Team management, project delivery, cross-functional collaboration\n",
        "- **Problem Solving:** Debugging, performance optimization, bug resolution"
      ],
      "metadata": {
        "id": "U8Rhe9s-UBsi"
      }
    }
  ]
}